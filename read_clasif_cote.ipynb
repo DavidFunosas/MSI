{
 "cells": [
  {
   "cell_type": "code",
   "execution_count": 1,
   "metadata": {},
   "outputs": [
    {
     "name": "stdout",
     "output_type": "stream",
     "text": [
      "\n",
      "Please cite HTMD: Doerr et al.(2016)JCTC,12,1845. https://dx.doi.org/10.1021/acs.jctc.6b00049\n",
      "\n",
      "HTMD Documentation at: https://www.htmd.org/docs/latest/\n",
      "\n",
      "New devel HTMD version (1.7.33 python[==3.5,==3.6]) is available. You are currently on (1.7.17). Use 'conda update -c acellera htmd' to update to the new version. You might need to update your python version as well if there is no release for your current version.\n",
      "\n"
     ]
    }
   ],
   "source": [
    "# read crd and store lipids in upper or lower membrane\n",
    "from htmd import *\n",
    "import numpy as np\n",
    "from copy import deepcopy\n",
    "import sys\n",
    "import getopt\n",
    "\n",
    "def read_crd(fname):\n",
    "\tfrom htmd.molecule.readers import Topology\n",
    "\tt = Topology()\n",
    "\n",
    "\tmol = Molecule()\n",
    "\tcoords = list()\n",
    "\tnAtoms = 0\n",
    "\tcurrent_resnum = 1\n",
    "\tup = []\n",
    "\tdown = []\n",
    "\n",
    "\twith open(fname, 'r') as f:\n",
    "\t\tfor line in f:\n",
    "\t\t\tpieces = line.split()\n",
    "\t\t\tif (not pieces[0].startswith(\"*\") and len(pieces) > 7):\n",
    "\t\t\t\tif pieces[3] == 'P':\n",
    "\t\t\t\t\tif float(pieces[6]) > 0:\n",
    "\t\t\t\t\t\tup.append(pieces[1])\n",
    "\t\t\t\t\telse:\n",
    "\t\t\t\t\t\tdown.append(pieces[1])\n",
    "\t\t\t\tif (int(pieces[1]) > current_resnum):\n",
    "\t\t\t\t\tmol._parseTopology(t,fname)\n",
    "\t\t\t\t\tmol.coords = deepcopy(np.array(coords, dtype=np.float32))\n",
    "\t\t\t\t\tcurrent_resnum = int(pieces[1])\n",
    "\t\t\t\tt.resid.append(pieces[1])\n",
    "\t\t\t\tt.resname.append(pieces[2])\n",
    "\t\t\t\tt.name.append(pieces[3])\n",
    "\t\t\t\tcoords.append([[float(pieces[4])],[float(pieces[5])],[float(pieces[6])]])\n",
    "\t\t\t\tt.segid.append(pieces[7])\n",
    "\t\t\t\tnAtoms = nAtoms + 1\n",
    "\n",
    "\tmol._parseTopology(t, fname)\n",
    "\tmol.coords = np.array(coords, dtype=np.float32)\n",
    "\treturn(mol, up, down)"
   ]
  },
  {
   "cell_type": "code",
   "execution_count": 2,
   "metadata": {},
   "outputs": [
    {
     "data": {
      "text/plain": [
       "<bound method Molecule.center of <htmd.molecule.molecule.Molecule object at 0x7fc0ba79e518>\n",
       "Molecule with 122 atoms and 1 frames\n",
       "Atom field - altloc shape: (122,)\n",
       "Atom field - atomtype shape: (122,)\n",
       "Atom field - beta shape: (122,)\n",
       "Atom field - chain shape: (122,)\n",
       "Atom field - charge shape: (122,)\n",
       "Atom field - coords shape: (122, 3, 1)\n",
       "Atom field - element shape: (122,)\n",
       "Atom field - insertion shape: (122,)\n",
       "Atom field - masses shape: (122,)\n",
       "Atom field - name shape: (122,)\n",
       "Atom field - occupancy shape: (122,)\n",
       "Atom field - record shape: (122,)\n",
       "Atom field - resid shape: (122,)\n",
       "Atom field - resname shape: (122,)\n",
       "Atom field - segid shape: (122,)\n",
       "Atom field - serial shape: (122,)\n",
       "angles shape: (0, 3)\n",
       "bonds shape: (0, 2)\n",
       "box shape: (3, 1)\n",
       "boxangles shape: (3, 1)\n",
       "crystalinfo: None\n",
       "dihedrals shape: (0, 4)\n",
       "fileloc shape: (1, 2)\n",
       "fstep: None\n",
       "impropers shape: (0, 4)\n",
       "reps: \n",
       "ssbonds shape: (0,)\n",
       "step shape: (0,)\n",
       "time shape: (0,)\n",
       "topoloc: /home/cote/m/msi/project/sopa_1.crd\n",
       "viewname: sopa_1>"
      ]
     },
     "execution_count": 2,
     "metadata": {},
     "output_type": "execute_result"
    }
   ],
   "source": [
    "# example molecules\n",
    "m1 = read_crd('dlpe_mini/step5_assembly.crd')\n",
    "m1[0].center\n",
    "m2 = read_crd('sopa_1.crd') # has only 1 residue\n",
    "m2[0].center"
   ]
  },
  {
   "cell_type": "code",
   "execution_count": 4,
   "metadata": {
    "collapsed": true
   },
   "outputs": [],
   "source": [
    "m1[0].view(viewer='VMD')"
   ]
  },
  {
   "cell_type": "code",
   "execution_count": null,
   "metadata": {
    "collapsed": true
   },
   "outputs": [],
   "source": [
    "# store coord of residue to be rm of m1\n",
    "coordp_m1 = m1[0].get('coords', 'resid 1 and name P')\n",
    "# store coord of residue to be inserted of m1\n",
    "coordp_m2 = m2[0].get('coords', 'resid 1 and name P')\n",
    "# translate residue to be inserted to the final coord\n",
    "m2[0].moveBy(coordp_m1-coordp_m2)\n",
    "# remove residue\n",
    "m1[0].remove('resid 1')\n",
    "# insert residue\n",
    "m1[0].append(m2[0])"
   ]
  },
  {
   "cell_type": "code",
   "execution_count": null,
   "metadata": {
    "collapsed": true
   },
   "outputs": [],
   "source": [
    "# random sampling (for future)\n",
    "import random\n",
    "population = m1[1] # population can be a list or a string\n",
    "k = 3\n",
    "rand = random.sample(population, k)"
   ]
  }
 ],
 "metadata": {
  "kernelspec": {
   "display_name": "Python 3",
   "language": "python",
   "name": "python3"
  },
  "language_info": {
   "codemirror_mode": {
    "name": "ipython",
    "version": 3
   },
   "file_extension": ".py",
   "mimetype": "text/x-python",
   "name": "python",
   "nbconvert_exporter": "python",
   "pygments_lexer": "ipython3",
   "version": "3.6.0"
  }
 },
 "nbformat": 4,
 "nbformat_minor": 2
}
