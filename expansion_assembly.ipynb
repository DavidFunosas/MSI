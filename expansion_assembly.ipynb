{
 "cells": [
  {
   "cell_type": "code",
   "execution_count": 102,
   "metadata": {},
   "outputs": [],
   "source": [
    "from htmd import *\n",
    "import numpy as np\n",
    "from copy import deepcopy\n",
    "import sys\n",
    "import getopt\n",
    "\n",
    "def read_crd(fname):\n",
    "    from htmd.molecule.readers import Topology\n",
    "    t = Topology()\n",
    "\n",
    "    mol = Molecule()\n",
    "    coords = list()\n",
    "    nAtoms = 0\n",
    "    current_resnum = 1\n",
    "    up = []\n",
    "    down = []\n",
    "\n",
    "    with open(fname, 'r') as f:\n",
    "        for line in f:\n",
    "            pieces = line.split()\n",
    "            if (not pieces[0].startswith(\"*\") and len(pieces) > 7):\n",
    "                if pieces[3] == 'P':\n",
    "                    if float(pieces[6]) > 0:\n",
    "                        up.append(pieces[1])\n",
    "                    else:\n",
    "                        down.append(pieces[1])\n",
    "                t.resid.append(pieces[1])\n",
    "                t.resname.append(pieces[2])\n",
    "                t.name.append(pieces[3])\n",
    "                coords.append([[float(pieces[4])],[float(pieces[5])],[float(pieces[6])]])\n",
    "                t.segid.append(pieces[7])\n",
    "                nAtoms = nAtoms + 1\n",
    "\n",
    "    mol._parseTopology(t, fname)\n",
    "    mol.coords = np.array(coords, dtype=np.float32)\n",
    "    mol.filter('not water')\n",
    "    return(mol, up, down)"
   ]
  },
  {
   "cell_type": "code",
   "execution_count": 103,
   "metadata": {},
   "outputs": [
    {
     "name": "stderr",
     "output_type": "stream",
     "text": [
      "2017-05-30 18:10:08,259 - htmd.molecule.vmdparser - WARNING - More than 3 characters were used for segids. Due to limitations in VMD atomselect segids will be ignored for the atomselection.\n",
      "2017-05-30 18:10:08,298 - htmd.molecule.molecule - INFO - Removed 3669 atoms. 3024 atoms remaining in the molecule.\n",
      "2017-05-30 18:10:08,503 - htmd.molecule.vmdparser - WARNING - More than 3 characters were used for segids. Due to limitations in VMD atomselect segids will be ignored for the atomselection.\n",
      "2017-05-30 18:10:08,543 - htmd.molecule.molecule - INFO - Removed 3072 atoms. 3696 atoms remaining in the molecule.\n",
      "2017-05-30 18:10:08,590 - htmd.molecule.molecule - INFO - Removed 1512 atoms. 1512 atoms remaining in the molecule.\n",
      "2017-05-30 18:10:08,645 - htmd.molecule.molecule - INFO - Removed 1848 atoms. 1848 atoms remaining in the molecule.\n"
     ]
    }
   ],
   "source": [
    "my_membrane1 = 'DYPA.crd'\n",
    "my_membrane2 = 'DGPA.crd'\n",
    "\n",
    "m1 = read_crd(my_membrane1)\n",
    "m2 = read_crd(my_membrane2)\n",
    "\n",
    "residues1 = 'resid ' + ' '.join(m1[2])\n",
    "residues2 = 'resid ' + ' '.join(m2[1]) \n",
    "\n",
    "m1[0].filter(residues1)\n",
    "m2[0].filter(residues2)\n"
   ]
  },
  {
   "cell_type": "code",
   "execution_count": 104,
   "metadata": {},
   "outputs": [],
   "source": [
    "n = 100\n",
    "# t = template surface\n",
    "# us = user surface\n",
    "surface_m1 = 33 #x 44.5\n",
    "m11copy = m1[0].copy()\n",
    "m22copy = m2[0].copy()\n"
   ]
  },
  {
   "cell_type": "code",
   "execution_count": 106,
   "metadata": {},
   "outputs": [],
   "source": [
    "def layer_creation(t, us, m11copy):\n",
    "    value = int(n/surface_m1)\n",
    "    times = value*value - 1\n",
    "\n",
    "    x = 0.0\n",
    "    y = 0.0\n",
    "\n",
    "    c = 1\n",
    "\n",
    "    for i in range(0, times):\n",
    "        m1copy = m11copy.copy()\n",
    "        m1copy.center\n",
    "\n",
    "        if c == value:\n",
    "            y = y + surface_m1\n",
    "            x = 0.0\n",
    "            m1copy.moveBy([[ x,    y,  0.0]])\n",
    "            m1[0].append(m1copy)\n",
    "            c = 0\n",
    "\n",
    "\n",
    "        else: #In this step I set the squares in first column\n",
    "            x += surface_m1\n",
    "            m1copy.moveBy([[ x,    y,  0.0]])\n",
    "            m1[0].append(m1copy)\n",
    "\n",
    "        c += 1\n",
    "        \n",
    "    return(m1[0])"
   ]
  },
  {
   "cell_type": "code",
   "execution_count": 107,
   "metadata": {
    "collapsed": true
   },
   "outputs": [],
   "source": [
    "uplayer = layer_creation(30, 100, m11copy)\n",
    "lowlayer = layer_creation(30, 100, m22copy)"
   ]
  },
  {
   "cell_type": "code",
   "execution_count": 108,
   "metadata": {},
   "outputs": [
    {
     "data": {
      "text/plain": [
       "array([None], dtype=object)"
      ]
     },
     "execution_count": 108,
     "metadata": {},
     "output_type": "execute_result"
    }
   ],
   "source": [
    "uplayer.center\n",
    "lowlayer.center\n",
    "\n",
    "lowlayer.moveBy([[ 0.0,    0.0,   20]])\n",
    "uplayer.append(lowlayer)"
   ]
  },
  {
   "cell_type": "code",
   "execution_count": 109,
   "metadata": {
    "collapsed": true
   },
   "outputs": [],
   "source": [
    "uplayer.view('VMD')"
   ]
  },
  {
   "cell_type": "code",
   "execution_count": null,
   "metadata": {
    "collapsed": true
   },
   "outputs": [],
   "source": []
  }
 ],
 "metadata": {
  "kernelspec": {
   "display_name": "Python 3",
   "language": "python",
   "name": "python3"
  },
  "language_info": {
   "codemirror_mode": {
    "name": "ipython",
    "version": 3
   },
   "file_extension": ".py",
   "mimetype": "text/x-python",
   "name": "python",
   "nbconvert_exporter": "python",
   "pygments_lexer": "ipython3",
   "version": "3.6.0"
  }
 },
 "nbformat": 4,
 "nbformat_minor": 2
}
