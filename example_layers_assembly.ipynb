{
 "cells": [
  {
   "cell_type": "code",
   "execution_count": 67,
   "metadata": {},
   "outputs": [],
   "source": [
    "# read crd and store lipids in upper or lower membrane\n",
    "from htmd import *\n",
    "import numpy as np\n",
    "from copy import deepcopy\n",
    "import sys\n",
    "import getopt\n",
    "\n",
    "def read_crd(fname):\n",
    "    from htmd.molecule.readers import Topology\n",
    "    t = Topology()\n",
    "\n",
    "    mol = Molecule()\n",
    "    coords = list()\n",
    "    nAtoms = 0\n",
    "    current_resnum = 1\n",
    "    up = []\n",
    "    down = []\n",
    "\n",
    "    with open(fname, 'r') as f:\n",
    "        for line in f:\n",
    "            pieces = line.split()\n",
    "            if (not pieces[0].startswith(\"*\") and len(pieces) > 7):\n",
    "                if pieces[3] == 'P':\n",
    "                    if float(pieces[6]) > 0:\n",
    "                        up.append(pieces[1])\n",
    "                    else:\n",
    "                        down.append(pieces[1])\n",
    "                t.resid.append(pieces[1])\n",
    "                t.resname.append(pieces[2])\n",
    "                t.name.append(pieces[3])\n",
    "                coords.append([[float(pieces[4])],[float(pieces[5])],[float(pieces[6])]])\n",
    "                t.segid.append(pieces[7])\n",
    "                nAtoms = nAtoms + 1\n",
    "\n",
    "    mol._parseTopology(t, fname)\n",
    "    mol.coords = np.array(coords, dtype=np.float32)\n",
    "    mol.filter('not water')\n",
    "    return(mol, up, down)"
   ]
  },
  {
   "cell_type": "code",
   "execution_count": 68,
   "metadata": {},
   "outputs": [
    {
     "name": "stderr",
     "output_type": "stream",
     "text": [
      "2017-05-30 16:23:49,129 - htmd.molecule.vmdparser - WARNING - More than 3 characters were used for segids. Due to limitations in VMD atomselect segids will be ignored for the atomselection.\n",
      "2017-05-30 16:23:49,170 - htmd.molecule.molecule - INFO - Removed 3669 atoms. 3024 atoms remaining in the molecule.\n",
      "2017-05-30 16:23:49,324 - htmd.molecule.vmdparser - WARNING - More than 3 characters were used for segids. Due to limitations in VMD atomselect segids will be ignored for the atomselection.\n",
      "2017-05-30 16:23:49,362 - htmd.molecule.molecule - INFO - Removed 3072 atoms. 3696 atoms remaining in the molecule.\n"
     ]
    }
   ],
   "source": [
    "my_membrane1 = 'DYPA.crd'\n",
    "my_membrane2 = 'DGPA.crd'\n",
    "\n",
    "m1 = read_crd(my_membrane1)\n",
    "m2 = read_crd(my_membrane2)\n",
    "\n",
    "residues1 = 'resid ' + ' '.join(m1[2])\n",
    "residues2 = 'resid ' + ' '.join(m2[1]) "
   ]
  },
  {
   "cell_type": "code",
   "execution_count": 69,
   "metadata": {},
   "outputs": [
    {
     "name": "stderr",
     "output_type": "stream",
     "text": [
      "2017-05-30 16:23:49,417 - htmd.molecule.molecule - INFO - Removed 1512 atoms. 1512 atoms remaining in the molecule.\n",
      "2017-05-30 16:23:49,471 - htmd.molecule.molecule - INFO - Removed 1848 atoms. 1848 atoms remaining in the molecule.\n"
     ]
    }
   ],
   "source": [
    "m1[0].filter(residues1)\n",
    "m2[0].filter(residues2)"
   ]
  },
  {
   "cell_type": "code",
   "execution_count": 70,
   "metadata": {},
   "outputs": [
    {
     "data": {
      "text/plain": [
       "<bound method Molecule.center of <htmd.molecule.molecule.Molecule object at 0x7f5deeff73c8>\n",
       "Molecule with 1848 atoms and 1 frames\n",
       "Atom field - altloc shape: (1848,)\n",
       "Atom field - atomtype shape: (1848,)\n",
       "Atom field - beta shape: (1848,)\n",
       "Atom field - chain shape: (1848,)\n",
       "Atom field - charge shape: (1848,)\n",
       "Atom field - coords shape: (1848, 3, 1)\n",
       "Atom field - element shape: (1848,)\n",
       "Atom field - insertion shape: (1848,)\n",
       "Atom field - masses shape: (1848,)\n",
       "Atom field - name shape: (1848,)\n",
       "Atom field - occupancy shape: (1848,)\n",
       "Atom field - record shape: (1848,)\n",
       "Atom field - resid shape: (1848,)\n",
       "Atom field - resname shape: (1848,)\n",
       "Atom field - segid shape: (1848,)\n",
       "Atom field - serial shape: (1848,)\n",
       "angles shape: (0, 3)\n",
       "bonds shape: (0, 2)\n",
       "box shape: (3, 1)\n",
       "boxangles shape: (3, 1)\n",
       "crystalinfo: None\n",
       "dihedrals shape: (0, 4)\n",
       "fileloc shape: (1, 2)\n",
       "fstep: None\n",
       "impropers shape: (0, 4)\n",
       "reps: \n",
       "ssbonds shape: (0,)\n",
       "step shape: (0,)\n",
       "time shape: (0,)\n",
       "topoloc: /home/sounak/Desktop/MSI/project/DGPA.crd\n",
       "viewname: DGPA>"
      ]
     },
     "execution_count": 70,
     "metadata": {},
     "output_type": "execute_result"
    }
   ],
   "source": [
    "m1[0].center\n",
    "m2[0].center"
   ]
  },
  {
   "cell_type": "code",
   "execution_count": 71,
   "metadata": {},
   "outputs": [
    {
     "data": {
      "text/plain": [
       "array([None], dtype=object)"
      ]
     },
     "execution_count": 71,
     "metadata": {},
     "output_type": "execute_result"
    }
   ],
   "source": [
    "m2[0].moveBy([[ 0.0,    0.0,   20]])\n",
    "m1[0].append(m2[0])"
   ]
  },
  {
   "cell_type": "code",
   "execution_count": 72,
   "metadata": {
    "collapsed": true
   },
   "outputs": [],
   "source": [
    "m1[0].view('VMD')"
   ]
  },
  {
   "cell_type": "code",
   "execution_count": null,
   "metadata": {
    "collapsed": true
   },
   "outputs": [],
   "source": []
  }
 ],
 "metadata": {
  "kernelspec": {
   "display_name": "Python 3",
   "language": "python",
   "name": "python3"
  },
  "language_info": {
   "codemirror_mode": {
    "name": "ipython",
    "version": 3
   },
   "file_extension": ".py",
   "mimetype": "text/x-python",
   "name": "python",
   "nbconvert_exporter": "python",
   "pygments_lexer": "ipython3",
   "version": "3.6.0"
  }
 },
 "nbformat": 4,
 "nbformat_minor": 2
}
