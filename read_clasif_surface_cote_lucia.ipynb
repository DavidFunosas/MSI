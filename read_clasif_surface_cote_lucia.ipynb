{
 "cells": [
  {
   "cell_type": "markdown",
   "metadata": {},
   "source": []
  },
  {
   "cell_type": "code",
   "execution_count": 23,
   "metadata": {},
   "outputs": [
    {
     "name": "stdout",
     "output_type": "stream",
     "text": [
      "296\n",
      "ssmall =269.6\n",
      "sbig =900\n",
      "3\n",
      "[3]\n",
      "3\n"
     ]
    }
   ],
   "source": [
    "#Load dictionary of surface areas per lipid\n",
    "d = {}\n",
    "with open(\"lipid_surface_areas.txt\") as f:\n",
    "\tfor line in f:\n",
    "\t\t(key,val) = line.split(\"\\t\")\n",
    "\t\td[key] = val\n",
    "\n",
    "\n",
    "#This is an example of input lipids and ratios from the user\n",
    "ARG11 =[\"DGPA\", 3, \"DYPA\", 1]\n",
    "n = 30 #For dimensions\n",
    "\n",
    "\n",
    "#Initialize some variables\n",
    "lipids = []\n",
    "ratios = []\n",
    "surfaces = []\n",
    "\n",
    "#Sort ARGV values into lipids or ratios and get the respective surface areas.\n",
    "for i in range(0, len(ARG11)): #Cambiar o de len\n",
    "\tif (type(ARG11[i]) == int):\n",
    "\t\tratios.append(ARG11[i])\n",
    "\telif(type(ARG11) != int):\n",
    "\t\tlipids.append(ARG11[i])\n",
    "\t\tsurfaces.append(float(d[ARG11[i]].rstrip()))\n",
    "\n",
    "#Getting the main lipid type (higher in number) and select the membrane type from available ones\n",
    "max_ratio = max(enumerate(ratios), key = lambda x: x[1])[0] #This is the index of the max value\n",
    "\n",
    "for keys in d:\n",
    "\tif (keys == lipids[max_ratio]): #If more than one lipid with same ratio, it takes the first that appears\n",
    "\t\tmy_membrane = keys + '.crd'\n",
    "\t\tbreak\n",
    "        \n",
    "#Calculation of number of lipids per type that will be necessary to replace\n",
    "from operator import mul\n",
    "\n",
    "sbig = n*n\n",
    "ssmall = sum(map(mul, ratios, surfaces))\n",
    "prop = int(sbig/ssmall)\n",
    "lipid_number = [i * prop for i in ratios] #List with number of lipids per type that needs to be replace\n",
    "\n",
    "#Removing values that correspond to the membrane type selected (it won't need replacement of this lipid tipe)\n",
    "del lipid_number[max_ratio]\n",
    "del lipids[max_ratio]\n",
    "\n",
    "total_replacements = sum(lipid_number)   # THIS WILL BE THE K IN COTE'S .PY FILE\n",
    "\n",
    "print(len(d))\n",
    "print(\"ssmall =\" + str(ssmall))\n",
    "print(\"sbig =\" + str(sbig))\n",
    "print(prop)\n",
    "print(lipid_number)\n",
    "print(total_replacements)"
   ]
  },
  {
   "cell_type": "code",
   "execution_count": 24,
   "metadata": {},
   "outputs": [],
   "source": [
    "# read crd and store lipids in upper or lower membrane\n",
    "from htmd import *\n",
    "import numpy as np\n",
    "from copy import deepcopy\n",
    "import sys\n",
    "import getopt\n",
    "\n",
    "def read_crd(fname):\n",
    "\tfrom htmd.molecule.readers import Topology\n",
    "\tt = Topology()\n",
    "\n",
    "\tmol = Molecule()\n",
    "\tcoords = list()\n",
    "\tnAtoms = 0\n",
    "\tcurrent_resnum = 1\n",
    "\tup = []\n",
    "\tdown = []\n",
    "\n",
    "\twith open(fname, 'r') as f:\n",
    "\t\tfor line in f:\n",
    "\t\t\tpieces = line.split()\n",
    "\t\t\tif (not pieces[0].startswith(\"*\") and len(pieces) > 7):\n",
    "\t\t\t\tif pieces[3] == 'P':\n",
    "\t\t\t\t\tif float(pieces[6]) > 0:\n",
    "\t\t\t\t\t\tup.append(pieces[1])\n",
    "\t\t\t\t\telse:\n",
    "\t\t\t\t\t\tdown.append(pieces[1])\n",
    "\t\t\t\tt.resid.append(pieces[1])\n",
    "\t\t\t\tt.resname.append(pieces[2])\n",
    "\t\t\t\tt.name.append(pieces[3])\n",
    "\t\t\t\tcoords.append([[float(pieces[4])],[float(pieces[5])],[float(pieces[6])]])\n",
    "\t\t\t\tt.segid.append(pieces[7])\n",
    "\t\t\t\tnAtoms = nAtoms + 1\n",
    "\n",
    "\tmol._parseTopology(t, fname)\n",
    "\tmol.coords = np.array(coords, dtype=np.float32)\n",
    "\tmol.filter('not water')\n",
    "\treturn(mol, up, down)"
   ]
  },
  {
   "cell_type": "code",
   "execution_count": 25,
   "metadata": {},
   "outputs": [
    {
     "data": {
      "text/plain": [
       "<bound method Molecule.center of <htmd.molecule.molecule.Molecule object at 0x7f5cbd01c278>\n",
       "Molecule with 3696 atoms and 1 frames\n",
       "Atom field - altloc shape: (3696,)\n",
       "Atom field - atomtype shape: (3696,)\n",
       "Atom field - beta shape: (3696,)\n",
       "Atom field - chain shape: (3696,)\n",
       "Atom field - charge shape: (3696,)\n",
       "Atom field - coords shape: (3696, 3, 1)\n",
       "Atom field - element shape: (3696,)\n",
       "Atom field - insertion shape: (3696,)\n",
       "Atom field - masses shape: (3696,)\n",
       "Atom field - name shape: (3696,)\n",
       "Atom field - occupancy shape: (3696,)\n",
       "Atom field - record shape: (3696,)\n",
       "Atom field - resid shape: (3696,)\n",
       "Atom field - resname shape: (3696,)\n",
       "Atom field - segid shape: (3696,)\n",
       "Atom field - serial shape: (3696,)\n",
       "angles shape: (0, 3)\n",
       "bonds shape: (0, 2)\n",
       "box shape: (3, 1)\n",
       "boxangles shape: (3, 1)\n",
       "crystalinfo: None\n",
       "dihedrals shape: (0, 4)\n",
       "fileloc shape: (1, 2)\n",
       "fstep: None\n",
       "impropers shape: (0, 4)\n",
       "reps: \n",
       "ssbonds shape: (0,)\n",
       "step shape: (0,)\n",
       "time shape: (0,)\n",
       "topoloc: /home/sounak/Desktop/MSI/project/DGPA.crd\n",
       "viewname: DGPA>"
      ]
     },
     "execution_count": 25,
     "metadata": {},
     "output_type": "execute_result"
    }
   ],
   "source": [
    "# example molecules\n",
    "m1 = read_crd('DGPA.crd')\n",
    "m1[0].center\n",
    "#m2 = read_crd('DYPA.crd') # Second\n",
    "#m2[0].center\n"
   ]
  },
  {
   "cell_type": "code",
   "execution_count": 8,
   "metadata": {
    "collapsed": true
   },
   "outputs": [],
   "source": [
    "#m1[0].view(viewer='VMD')"
   ]
  },
  {
   "cell_type": "code",
   "execution_count": 28,
   "metadata": {},
   "outputs": [
    {
     "name": "stdout",
     "output_type": "stream",
     "text": [
      "DYPA ['3', '12', '2']\n"
     ]
    }
   ],
   "source": [
    "# random sampling (for future)\n",
    "import random\n",
    "population = m1[1] # population can be a list or a string\n",
    "#k = 3\n",
    "\n",
    "rand = random.sample(population, total_replacements)\n",
    "rand_copy = rand\n",
    "\n",
    "big_list = []\n",
    "lip_repl = {}\n",
    "\n",
    "if len(lipid_number) >= 1: #CHANGE THIS IF HERE AND ADAPT TO THE DIFFERENT SITUATIONS THAT WE WANT\n",
    "\tfor i in range(0, len(lipid_number)):\n",
    "\t\tlip_repl[lipids[i]] = rand_copy[0:lipid_number[i]]\n",
    "\t\tdel rand_copy[0:lipid_number[i]]\n",
    "\n",
    "#for i in range(0, lipid_number-1):\n",
    "#    small_list = rand[0:lipid_number[i]]\n",
    "#    big_list.append([rand[]])\n",
    "    \n",
    "for key in lip_repl:\n",
    "    print(key, lip_repl[key])\n"
   ]
  },
  {
   "cell_type": "code",
   "execution_count": 29,
   "metadata": {},
   "outputs": [
    {
     "name": "stdout",
     "output_type": "stream",
     "text": [
      "[[ -6.84940243  -0.08530583  21.2918911 ]]\n",
      "[[ -3.94217157  14.75995445  21.25243378]]\n",
      "[[ -1.66562033  -8.15303135  20.88486099]]\n"
     ]
    }
   ],
   "source": [
    "#Reading molecule membrane 1\n",
    "m1 = read_crd(my_membrane)\n",
    "m1[0].center\n",
    "\n",
    "#Reading molecules membrane (lipid donors)\n",
    "for key in lip_repl:\n",
    "    #name = key + '.crd'\n",
    "    m2 = read_crd(key + '.crd')#Selecting membrane donor\n",
    "    m2[0].center\n",
    "    coordp_m2 = m2[0].get('coords', 'resid 1 and name P')#Selecting lipid\n",
    "    \n",
    "    for value in lip_repl[key]:\n",
    "        # store coord of residue to be rm of m1\n",
    "        residue = 'resid ' + str(value) + ' and name P'\n",
    "        residue_short = 'resid ' + str(value)#Short string without atom specifications\n",
    "        coordp_m1 = m1[0].get('coords', residue)\n",
    "        print(coordp_m1)\n",
    "        \n",
    "        #AQUÍ HABRÍA QUE INTEGRAR LA PARTE DE REMOVE AND INSERT\n",
    "        #2[0].moveBy(coordp_m1-coordp_m2)\n",
    "        # remove residue\n",
    "        #1[0].remove(residue_short)\n",
    "        # insert residue\n",
    "        #1[0].append(m2[0])\n",
    "\n",
    "\n",
    "# store coord of residue to be rm of m1\n",
    "#coordp_m1 = m1[0].get('coords', residue)\n",
    "#print(coordp_m1)\n",
    "#coordp_m1 = m1[0].get('coords', 'resid 1 and name P')\n",
    "#print(coordp_m1)\n",
    "# store coord of residue to be inserted of m1\n",
    "#coordp_m2 = m2[0].get('coords', 'resid 1 and name P')\n",
    "# translate residue to be inserted to the final coord\n",
    "#print(coordp_m2)\n",
    "\n",
    "\n",
    "\n",
    "\n",
    "\n",
    "#m1[0].remove('resid 1 2 3')\n"
   ]
  },
  {
   "cell_type": "code",
   "execution_count": null,
   "metadata": {
    "collapsed": true
   },
   "outputs": [],
   "source": []
  }
 ],
 "metadata": {
  "kernelspec": {
   "display_name": "Python 3",
   "language": "python",
   "name": "python3"
  },
  "language_info": {
   "codemirror_mode": {
    "name": "ipython",
    "version": 3
   },
   "file_extension": ".py",
   "mimetype": "text/x-python",
   "name": "python",
   "nbconvert_exporter": "python",
   "pygments_lexer": "ipython3",
   "version": "3.6.0"
  }
 },
 "nbformat": 4,
 "nbformat_minor": 2
}
